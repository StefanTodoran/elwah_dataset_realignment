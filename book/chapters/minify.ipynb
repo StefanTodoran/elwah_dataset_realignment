{
 "cells": [
  {
   "cell_type": "code",
   "execution_count": 34,
   "metadata": {},
   "outputs": [],
   "source": [
    "import scipy.io\n",
    "import os.path"
   ]
  },
  {
   "cell_type": "code",
   "execution_count": 35,
   "metadata": {},
   "outputs": [],
   "source": [
    "airborne_data_path = \"../data/AirborneData.mat\"\n",
    "assert os.path.exists(airborne_data_path)\n",
    "airborne_data = scipy.io.loadmat(airborne_data_path)"
   ]
  },
  {
   "cell_type": "code",
   "execution_count": 36,
   "metadata": {},
   "outputs": [
    {
     "name": "stdout",
     "output_type": "stream",
     "text": [
      "['__header__', '__version__', '__globals__', 'imageRGB', 'imageIR', 'maskRiver', 'tempRiver', 'northings', 'eastings', 'Xt', 'Yt', 'Zt', 'altitude', 'datePDT']\n"
     ]
    }
   ],
   "source": [
    "print(list(airborne_data.keys()))"
   ]
  },
  {
   "cell_type": "code",
   "execution_count": 37,
   "metadata": {},
   "outputs": [
    {
     "name": "stdout",
     "output_type": "stream",
     "text": [
      "b'MATLAB 5.0 MAT-file, Platform: MACI64, Created on: Mon Apr  8 16:29:13 2013'\n",
      "1.0\n",
      "[]\n"
     ]
    }
   ],
   "source": [
    "print(airborne_data['__header__'])\n",
    "print(airborne_data['__version__'])\n",
    "print(airborne_data['__globals__'])"
   ]
  },
  {
   "attachments": {},
   "cell_type": "markdown",
   "metadata": {},
   "source": [
    "Not sure if any of these are important, but they don't contibute to the file size and don't get in our way so no reason to bother ourselves with them."
   ]
  },
  {
   "cell_type": "code",
   "execution_count": 38,
   "metadata": {},
   "outputs": [
    {
     "name": "stdout",
     "output_type": "stream",
     "text": [
      "<class 'numpy.ndarray'>\n",
      "(640, 480, 406, 3)\n",
      "<class 'numpy.ndarray'>\n",
      "(480, 640, 406)\n"
     ]
    }
   ],
   "source": [
    "print(type(airborne_data['imageRGB']))\n",
    "print(airborne_data['imageRGB'].shape)\n",
    "\n",
    "print(type(airborne_data['imageIR']))\n",
    "print(airborne_data['imageIR'].shape)"
   ]
  },
  {
   "cell_type": "code",
   "execution_count": 39,
   "metadata": {},
   "outputs": [
    {
     "name": "stdout",
     "output_type": "stream",
     "text": [
      "\n",
      "maskRiver:\n",
      "<class 'numpy.ndarray'>\n",
      "(480, 640, 406)\n",
      "\n",
      "tempRiver:\n",
      "<class 'numpy.ndarray'>\n",
      "(406, 5)\n",
      "\n",
      "altitude:\n",
      "<class 'numpy.ndarray'>\n",
      "(406, 1)\n",
      "\n",
      "datePDT:\n",
      "<class 'numpy.ndarray'>\n",
      "(406,)\n"
     ]
    }
   ],
   "source": [
    "print('\\nmaskRiver:')\n",
    "print(type(airborne_data['maskRiver']))\n",
    "print(airborne_data['maskRiver'].shape)\n",
    "\n",
    "print('\\ntempRiver:')\n",
    "print(type(airborne_data['tempRiver']))\n",
    "print(airborne_data['tempRiver'].shape)\n",
    "\n",
    "print('\\naltitude:')\n",
    "print(type(airborne_data['altitude']))\n",
    "print(airborne_data['altitude'].shape)\n",
    "\n",
    "print('\\ndatePDT:')\n",
    "print(type(airborne_data['datePDT']))\n",
    "print(airborne_data['datePDT'].shape)"
   ]
  },
  {
   "attachments": {},
   "cell_type": "markdown",
   "metadata": {},
   "source": [
    "As far as I know, `maskRiver` and `tempRiver` are abandoned old work from a few years ago when another researched tried to do some processing on this dataset. Trimming them will greatly reduce the dataset size. The `altitude` data may come in handy later, but at the moment it isn't useful to us."
   ]
  },
  {
   "cell_type": "code",
   "execution_count": 40,
   "metadata": {},
   "outputs": [
    {
     "data": {
      "text/plain": [
       "''"
      ]
     },
     "execution_count": 40,
     "metadata": {},
     "output_type": "execute_result"
    }
   ],
   "source": [
    "airborne_data.pop('maskRiver')\n",
    "airborne_data.pop('tempRiver')\n",
    "airborne_data.pop('altitude')\n",
    "airborne_data.pop('datePDT')\n",
    ";"
   ]
  },
  {
   "cell_type": "code",
   "execution_count": 41,
   "metadata": {},
   "outputs": [
    {
     "name": "stdout",
     "output_type": "stream",
     "text": [
      "\n",
      "northings:\n",
      "<class 'numpy.ndarray'>\n",
      "(406, 1)\n",
      "\n",
      "eastings:\n",
      "<class 'numpy.ndarray'>\n",
      "(406, 1)\n",
      "\n",
      "Xt:\n",
      "<class 'numpy.ndarray'>\n",
      "(480, 640, 406)\n",
      "\n",
      "Yt:\n",
      "<class 'numpy.ndarray'>\n",
      "(480, 640, 406)\n",
      "\n",
      "Zt:\n",
      "<class 'numpy.ndarray'>\n",
      "(1, 406)\n"
     ]
    }
   ],
   "source": [
    "print('\\nnorthings:')\n",
    "print(type(airborne_data['northings']))\n",
    "print(airborne_data['northings'].shape)\n",
    "\n",
    "print('\\neastings:')\n",
    "print(type(airborne_data['eastings']))\n",
    "print(airborne_data['eastings'].shape)\n",
    "\n",
    "print('\\nXt:')\n",
    "print(type(airborne_data['Xt']))\n",
    "print(airborne_data['Xt'].shape)\n",
    "\n",
    "print('\\nYt:')\n",
    "print(type(airborne_data['Yt']))\n",
    "print(airborne_data['Yt'].shape)\n",
    "\n",
    "print('\\nZt:')\n",
    "print(type(airborne_data['Zt']))\n",
    "print(airborne_data['Zt'].shape)"
   ]
  },
  {
   "cell_type": "code",
   "execution_count": 42,
   "metadata": {},
   "outputs": [
    {
     "data": {
      "text/plain": [
       "''"
      ]
     },
     "execution_count": 42,
     "metadata": {},
     "output_type": "execute_result"
    }
   ],
   "source": [
    "airborne_data.pop('northings')\n",
    "airborne_data.pop('eastings')\n",
    "airborne_data.pop('Xt')\n",
    "airborne_data.pop('Yt')\n",
    "airborne_data.pop('Zt')\n",
    ";"
   ]
  },
  {
   "cell_type": "code",
   "execution_count": 43,
   "metadata": {},
   "outputs": [
    {
     "name": "stdout",
     "output_type": "stream",
     "text": [
      "['__header__', '__version__', '__globals__', 'imageRGB', 'imageIR']\n"
     ]
    }
   ],
   "source": [
    "print(list(airborne_data.keys()))"
   ]
  },
  {
   "attachments": {},
   "cell_type": "markdown",
   "metadata": {},
   "source": [
    "We've significantly reduced the file size with these steps. However, we still have 812 images, which at about 1 MB a piece leaves us with a still gargantuan ~800 MB file, far too large for Github. We are going to need to trim this down a bit."
   ]
  },
  {
   "cell_type": "code",
   "execution_count": 48,
   "metadata": {},
   "outputs": [],
   "source": [
    "trimmed_rgb = airborne_data['imageRGB'][:,:,0:25]\n",
    "trimmed_ir = airborne_data['imageIR'][:,:,0:25]\n",
    "\n",
    "airborne_data['imageRGB'] = trimmed_rgb\n",
    "airborne_data['imageIR'] = trimmed_ir"
   ]
  },
  {
   "cell_type": "code",
   "execution_count": 49,
   "metadata": {},
   "outputs": [
    {
     "name": "stdout",
     "output_type": "stream",
     "text": [
      "<class 'numpy.ndarray'>\n",
      "(640, 480, 25, 3)\n",
      "<class 'numpy.ndarray'>\n",
      "(480, 640, 25)\n"
     ]
    }
   ],
   "source": [
    "print(type(airborne_data['imageRGB']))\n",
    "print(airborne_data['imageRGB'].shape)\n",
    "\n",
    "print(type(airborne_data['imageIR']))\n",
    "print(airborne_data['imageIR'].shape)"
   ]
  },
  {
   "cell_type": "code",
   "execution_count": 50,
   "metadata": {},
   "outputs": [],
   "source": [
    "airborne_data_path = \"../data/AirborneDataMini.mat\"\n",
    "scipy.io.savemat(airborne_data_path, airborne_data)"
   ]
  }
 ],
 "metadata": {
  "kernelspec": {
   "display_name": "elwah_env",
   "language": "python",
   "name": "python3"
  },
  "language_info": {
   "codemirror_mode": {
    "name": "ipython",
    "version": 3
   },
   "file_extension": ".py",
   "mimetype": "text/x-python",
   "name": "python",
   "nbconvert_exporter": "python",
   "pygments_lexer": "ipython3",
   "version": "3.10.9"
  },
  "orig_nbformat": 4,
  "vscode": {
   "interpreter": {
    "hash": "50f80f0c0be00ee1eadf63987ad2838813dfe2b00bb8ce9b59083c627bf377e1"
   }
  }
 },
 "nbformat": 4,
 "nbformat_minor": 2
}
