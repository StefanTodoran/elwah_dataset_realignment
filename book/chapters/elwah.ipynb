{
 "cells": [
  {
   "attachments": {},
   "cell_type": "markdown",
   "metadata": {},
   "source": [
    "# Cold Water Refuge Mapping\n",
    "\n",
    "## Introduction\n",
    "\n",
    "TODO"
   ]
  }
 ],
 "metadata": {
  "kernelspec": {
   "display_name": "elwah_env",
   "language": "python",
   "name": "python3"
  },
  "language_info": {
   "name": "python",
   "version": "3.10.9"
  },
  "orig_nbformat": 4,
  "vscode": {
   "interpreter": {
    "hash": "50f80f0c0be00ee1eadf63987ad2838813dfe2b00bb8ce9b59083c627bf377e1"
   }
  }
 },
 "nbformat": 4,
 "nbformat_minor": 2
}
