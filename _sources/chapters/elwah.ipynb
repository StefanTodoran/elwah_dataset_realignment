{
 "cells": [
  {
   "attachments": {},
   "cell_type": "markdown",
   "metadata": {},
   "source": [
    "# Cold Water Refuge Mapping\n",
    "\n",
    "## Introduction\n",
    "\n",
    "Plan:\n",
    "\n",
    "* Stitch together RGB images with openCV sticher\n",
    "* Find best descriptor for colorspace invariance\n",
    "* Slice them according to IR images (somehow?)\n",
    "\n",
    "* Split dataset into training, testing and validation\n",
    "* (this probably means making some data by hand for part of it...)\n",
    "* Use pre-trained classification model with final layer removed (transfer learning)\n",
    "* Train it on training dataset and evaluate performance\n",
    "* Semantic segmentation finding river boundaries and cold water refuge boundaries\n"
   ]
  }
 ],
 "metadata": {
  "kernelspec": {
   "display_name": "Python 3",
   "language": "python",
   "name": "python3"
  },
  "language_info": {
   "name": "python",
   "version": "3.9.13"
  },
  "orig_nbformat": 4,
  "vscode": {
   "interpreter": {
    "hash": "475a08db99efb31e89a9087e9ca2d38d56797a16dd41a0621d20f3dc95701503"
   }
  }
 },
 "nbformat": 4,
 "nbformat_minor": 2
}
