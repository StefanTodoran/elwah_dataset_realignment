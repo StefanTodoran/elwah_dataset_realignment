{
 "cells": [
  {
   "attachments": {},
   "cell_type": "markdown",
   "metadata": {},
   "source": [
    "# Cold Water Refuge Mapping\n",
    "\n",
    "## Introduction\n",
    "\n",
    "Plan:\n",
    "\n",
    "* Stitch together RGB images with openCV sticher\n",
    "* idea: mix different kinds of keypoint descriptors for best results??\n",
    "* Slice them according to IR images (somehow?)\n",
    "\n",
    "* Split dataset into training, testing and validation\n",
    "* (this means making some data by hand for part of it...)\n",
    "* Use pre-trained classification model with final layer removed (transfer learning)\n",
    "* train it on training dataset and evaluate performance\n",
    "* semantic segmentation finding river boundaries and cold water refuge boundaries\n"
   ]
  }
 ],
 "metadata": {
  "kernelspec": {
   "display_name": "elwah_env",
   "language": "python",
   "name": "python3"
  },
  "language_info": {
   "name": "python",
   "version": "3.10.9"
  },
  "orig_nbformat": 4,
  "vscode": {
   "interpreter": {
    "hash": "50f80f0c0be00ee1eadf63987ad2838813dfe2b00bb8ce9b59083c627bf377e1"
   }
  }
 },
 "nbformat": 4,
 "nbformat_minor": 2
}
